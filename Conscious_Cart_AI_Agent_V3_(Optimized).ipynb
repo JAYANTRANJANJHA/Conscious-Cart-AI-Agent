{
  "cells": [
    {
      "cell_type": "code",
      "source": [
        "# First, ensure you have the necessary libraries installed\n",
        "! pip install -qU google-generativeai==0.8.5 langgraph langchain langchain-google-genai beautifulsoup4 requests==2.32.3"
      ],
      "metadata": {
        "colab": {
          "base_uri": "https://localhost:8080/"
        },
        "id": "XKeHUzuWrHKZ",
        "outputId": "be8517ff-8410-472a-82d5-8bc08ee6ce7a"
      },
      "execution_count": null,
      "outputs": [
        {
          "output_type": "stream",
          "name": "stdout",
          "text": [
            "\u001b[2K     \u001b[90m━━━━━━━━━━━━━━━━━━━━━━━━━━━━━━━━━━━━━━━\u001b[0m \u001b[32m43.7/43.7 kB\u001b[0m \u001b[31m587.5 kB/s\u001b[0m eta \u001b[36m0:00:00\u001b[0m\n",
            "\u001b[2K   \u001b[90m━━━━━━━━━━━━━━━━━━━━━━━━━━━━━━━━━━━━━━━━\u001b[0m \u001b[32m152.2/152.2 kB\u001b[0m \u001b[31m2.1 MB/s\u001b[0m eta \u001b[36m0:00:00\u001b[0m\n",
            "\u001b[2K   \u001b[90m━━━━━━━━━━━━━━━━━━━━━━━━━━━━━━━━━━━━━━━━\u001b[0m \u001b[32m42.0/42.0 kB\u001b[0m \u001b[31m3.0 MB/s\u001b[0m eta \u001b[36m0:00:00\u001b[0m\n",
            "\u001b[2K   \u001b[90m━━━━━━━━━━━━━━━━━━━━━━━━━━━━━━━━━━━━━━━━\u001b[0m \u001b[32m43.9/43.9 kB\u001b[0m \u001b[31m2.9 MB/s\u001b[0m eta \u001b[36m0:00:00\u001b[0m\n",
            "\u001b[2K   \u001b[90m━━━━━━━━━━━━━━━━━━━━━━━━━━━━━━━━━━━━━━━━\u001b[0m \u001b[32m50.6/50.6 kB\u001b[0m \u001b[31m2.6 MB/s\u001b[0m eta \u001b[36m0:00:00\u001b[0m\n",
            "\u001b[2K   \u001b[90m━━━━━━━━━━━━━━━━━━━━━━━━━━━━━━━━━━━━━━━━\u001b[0m \u001b[32m216.5/216.5 kB\u001b[0m \u001b[31m10.7 MB/s\u001b[0m eta \u001b[36m0:00:00\u001b[0m\n",
            "\u001b[?25h"
          ]
        }
      ]
    },
    {
      "cell_type": "code",
      "source": [
        "\n",
        "import os\n",
        "import getpass\n",
        "import re\n",
        "from typing import TypedDict, List\n",
        "import requests\n",
        "from bs4 import BeautifulSoup\n",
        "from langgraph.graph import StateGraph, END\n",
        "from langchain_google_genai import ChatGoogleGenerativeAI\n",
        "from langchain_core.messages import HumanMessage\n",
        "\n",
        "\n"
      ],
      "metadata": {
        "id": "sxswlUtYrNSI"
      },
      "execution_count": null,
      "outputs": []
    },
    {
      "cell_type": "code",
      "source": [
        "# --- 1. Setup Gemini LLM ---\n",
        "# It's better to set the API key as an environment variable,\n",
        "# but getpass is fine for testing.\n",
        "try:\n",
        "    # Use a cached API key if it exists to avoid re-entering\n",
        "    if \"GOOGLE_API_KEY\" not in os.environ:\n",
        "        os.environ[\"GOOGLE_API_KEY\"] = getpass.getpass(\"Enter your Gemini API key: \")\n",
        "except (ImportError, NameError):\n",
        "    print(\"Could not get API key securely. Please set the GOOGLE_API_KEY environment variable.\")\n",
        "    # Add a fallback for non-interactive environments\n",
        "    if \"GOOGLE_API_KEY\" not in os.environ:\n",
        "        os.environ[\"GOOGLE_API_KEY\"] = \"YOUR_API_KEY_HERE\"\n"
      ],
      "metadata": {
        "colab": {
          "base_uri": "https://localhost:8080/"
        },
        "id": "WaF_-qPZrThI",
        "outputId": "bfd0489f-d7d0-4931-f9f3-62c7d85aa1bc"
      },
      "execution_count": null,
      "outputs": [
        {
          "name": "stdout",
          "output_type": "stream",
          "text": [
            "Enter your Gemini API key: ··········\n"
          ]
        }
      ]
    },
    {
      "cell_type": "code",
      "source": [
        "\n",
        "\n",
        "llm = ChatGoogleGenerativeAI(model=\"models/gemini-1.5-flash-latest\", temperature=0)"
      ],
      "metadata": {
        "id": "WkbmZYxUrZXI"
      },
      "execution_count": null,
      "outputs": []
    },
    {
      "cell_type": "code",
      "source": [
        "# --- 2. Define the State ---\n",
        "class AgentState(TypedDict):\n",
        "    \"\"\"Defines the structure of the data passed between nodes.\"\"\"\n",
        "    user_input: str\n",
        "    product_details: str\n",
        "    analysis_result: str\n",
        "    recommendation: str"
      ],
      "metadata": {
        "id": "lEKXa9MYsJIn"
      },
      "execution_count": null,
      "outputs": []
    },
    {
      "cell_type": "code",
      "source": [
        "# --- 3. Define Graph Nodes ---\n",
        "def get_user_input(state: AgentState) -> AgentState:\n",
        "    \"\"\"Gets the product URL or name from the user.\"\"\"\n",
        "    user_input = input(\"Welcome to Conscious Cart! 🛒 Please enter a product URL or a product name: \")\n",
        "    state[\"user_input\"] = user_input\n",
        "    return state\n",
        "\n",
        "def scrape_product_details(state: AgentState) -> AgentState:\n",
        "    \"\"\"\n",
        "    Scrapes a product page. If it fails, it falls back to analyzing the URL itself.\n",
        "    \"\"\"\n",
        "    url = state[\"user_input\"]\n",
        "    print(\"--- 🕵️ Fetching product data from URL... ---\")\n",
        "    try:\n",
        "        headers = {\n",
        "            'User-Agent': 'Mozilla/5.0 (Windows NT 10.0; Win64; x64) AppleWebKit/537.36 (KHTML, like Gecko) Chrome/108.0.0.0 Safari/537.36',\n",
        "            'Accept-Language': 'en-US,en;q=0.9',\n",
        "            'Accept-Encoding': 'gzip, deflate, br',\n",
        "            'Accept': 'text/html,application/xhtml+xml,application/xml;q=0.9,image/avif,image/webp,image/apng,*/*;q=0.8',\n",
        "        }\n",
        "        response = requests.get(url, headers=headers, timeout=20)\n",
        "        response.raise_for_status()\n",
        "        soup = BeautifulSoup(response.content, 'html.parser')\n",
        "\n",
        "        title = soup.find('span', id='productTitle')\n",
        "        features = soup.find('div', id='feature-bullets')\n",
        "\n",
        "        title_text = title.get_text(strip=True) if title else \"Title not found\"\n",
        "        features_text = features.get_text(strip=True) if features else \"Features not found\"\n",
        "\n",
        "        if title_text == \"Title not found\" and features_text == \"Features not found\":\n",
        "            raise ValueError(\"Failed to find key product details.\")\n",
        "\n",
        "        state[\"product_details\"] = f\"Product Title: {title_text}\\n\\nProduct Features:\\n{features_text}\"\n",
        "\n",
        "    except Exception as e:\n",
        "        print(f\"\\n---  scraping failed: {e} ---\")\n",
        "        print(\"---  fallback to url analysis ---\")\n",
        "        try:\n",
        "            match = re.search(r'/([^/]+)/dp/|/([^/]+)$', url)\n",
        "            if match:\n",
        "                url_text = (match.group(1) or match.group(2)).replace('-', ' ').replace('+', ' ')\n",
        "                state[\"product_details\"] = (\n",
        "                    \"NOTE: The product page was inaccessible. The following analysis is based on keywords from the URL.\\n\\n\"\n",
        "                    f\"Keywords from URL: {url_text}\"\n",
        "                )\n",
        "            else:\n",
        "                state[\"product_details\"] = \"\" # Set to empty if fallback also fails\n",
        "        except Exception:\n",
        "            state[\"product_details\"] = \"\"\n",
        "\n",
        "    return state\n",
        "\n",
        "def generate_details_from_name(state: AgentState) -> AgentState:\n",
        "    \"\"\"Generates a plausible product description from a product name.\"\"\"\n",
        "    product_name = state[\"user_input\"]\n",
        "    print(f\"--- 📝 Generating hypothetical details for: {product_name} ---\")\n",
        "    prompt = (\n",
        "        f\"Generate a typical e-commerce product description for '{product_name}'. \"\n",
        "        \"Include likely materials and features for an environmental impact analysis.\"\n",
        "    )\n",
        "    response = llm.invoke([HumanMessage(content=prompt)])\n",
        "    state[\"product_details\"] = response.content.strip()\n",
        "    return state\n",
        "\n",
        "def analyze_environmental_impact(state: AgentState) -> AgentState:\n",
        "    \"\"\"Analyzes the product details for environmental impact.\"\"\"\n",
        "    details = state[\"product_details\"]\n",
        "    if not details:\n",
        "        state[\"analysis_result\"] = \"ANALYSIS_FAILED\"\n",
        "        state[\"recommendation\"] = \"Could not generate a recommendation as no product data was found.\"\n",
        "        return state\n",
        "\n",
        "    print(\"--- 🔬 Analyzing environmental impact... ---\")\n",
        "    prompt = (\n",
        "        \"You are an environmental analyst. Based on the details below, provide a brief impact analysis. \"\n",
        "        \"Conclude with a verdict on its own line: 'RECOMMENDED', 'NOT RECOMMENDED', or 'NEUTRAL'.\\n\\n\"\n",
        "        f\"Product Details:\\n---\\n{details}\\n---\"\n",
        "    )\n",
        "    response = llm.invoke([HumanMessage(content=prompt)])\n",
        "    state[\"analysis_result\"] = response.content.strip()\n",
        "    return state\n",
        "\n",
        "def generate_recommendation(state: AgentState) -> AgentState:\n",
        "    \"\"\"Generates the final recommendation, finding alternatives if necessary.\"\"\"\n",
        "    analysis = state[\"analysis_result\"]\n",
        "    if \"ANALYSIS_FAILED\" in analysis:\n",
        "        return state # Recommendation already set in the analysis node\n",
        "\n",
        "    print(\"--- ✨ Generating final recommendation... ---\")\n",
        "    if \"NOT RECOMMENDED\" in analysis.upper():\n",
        "        prompt = (\n",
        "            \"The following product was 'Not Recommended'. Suggest 3 specific, sustainable alternatives. \"\n",
        "            \"For each, briefly explain why it's a better choice. Format as a numbered list.\\n\\n\"\n",
        "            f\"Original Product Analysis:\\n---\\n{analysis}\\n---\"\n",
        "        )\n",
        "        response = llm.invoke([HumanMessage(content=prompt)])\n",
        "        alternatives_text = response.content.strip()\n",
        "        state[\"recommendation\"] = (\n",
        "            \"## Product Analysis 📉\\n\\n\"\n",
        "            f\"{analysis}\\n\\n\"\n",
        "            \"## Better, Eco-Friendly Alternatives 🌱\\n\\n\"\n",
        "            f\"{alternatives_text}\"\n",
        "        )\n",
        "    else:\n",
        "        state[\"recommendation\"] = f\"## Product Analysis ✅\\n\\n{analysis}\"\n",
        "\n",
        "    return state"
      ],
      "metadata": {
        "id": "LeMy3Fw4rf8w"
      },
      "execution_count": null,
      "outputs": []
    },
    {
      "cell_type": "code",
      "source": [
        "# --- 4. Define Graph Routers ---\n",
        "def route_by_input_type(state: AgentState) -> str:\n",
        "    \"\"\"Routes the process based on whether the input is a URL or a product name.\"\"\"\n",
        "    if state[\"user_input\"].lower().startswith(\"http\"):\n",
        "        return \"scrape_details\"\n",
        "    return \"generate_from_name\""
      ],
      "metadata": {
        "id": "IuOimcdOrhaw"
      },
      "execution_count": null,
      "outputs": []
    },
    {
      "cell_type": "code",
      "source": [
        "# --- 5. Build the Graph ---\n",
        "builder = StateGraph(AgentState)\n",
        "\n",
        "builder.add_node(\"get_input\", get_user_input)\n",
        "builder.add_node(\"scrape_details\", scrape_product_details)\n",
        "builder.add_node(\"generate_from_name\", generate_details_from_name)\n",
        "builder.add_node(\"analyze_impact\", analyze_environmental_impact)\n",
        "builder.add_node(\"create_recommendation\", generate_recommendation)\n",
        "\n",
        "builder.set_entry_point(\"get_input\")\n",
        "builder.add_conditional_edges(\"get_input\", route_by_input_type)\n",
        "\n",
        "builder.add_edge(\"scrape_details\", \"analyze_impact\")\n",
        "builder.add_edge(\"generate_from_name\", \"analyze_impact\")\n",
        "builder.add_edge(\"analyze_impact\", \"create_recommendation\")\n",
        "builder.add_edge(\"create_recommendation\", END)\n",
        "\n",
        "graph = builder.compile()\n"
      ],
      "outputs": [],
      "execution_count": null,
      "metadata": {
        "id": "T06dV7a7rAmK"
      }
    },
    {
      "cell_type": "code",
      "source": [
        "# --- 6. Run the Agent ---\n",
        "final_state = graph.invoke({})\n",
        "\n",
        "# Print the final, user-facing recommendation\n",
        "print(\"\\n\\n===================================\")\n",
        "print(\"      Final Recommendation\")\n",
        "print(\"===================================\\n\")\n",
        "print(final_state.get(\"recommendation\", \"No recommendation could be generated.\"))"
      ],
      "metadata": {
        "colab": {
          "base_uri": "https://localhost:8080/"
        },
        "id": "qXFaM-15rjvx",
        "outputId": "aed7d234-a7a2-4ddd-e042-8c78c30ae968"
      },
      "execution_count": null,
      "outputs": [
        {
          "output_type": "stream",
          "name": "stdout",
          "text": [
            "Welcome to Conscious Cart! 🛒 Please enter a product URL or a product name: Product Details Name : GHAR SOAPS MAGIC SOAP 100 GM  Product Name : GHAR SOAPS MAGIC SOAP 100 GM  Brand Name : Ghar Soaps  Type : Solid  Flavour : Sandalwood  Net Quantity (N) : 1  PROVEN TO BRIGHTEN THE SKIN  HOW DOES THIS SOAP MAKES YOUR SKIN BRIGHTER ?     Saffron present in the soap makes the skin brighter. Saffron helps in deeply exfoliating the pores giving you a cleansed, fresh and flawless skin. Scars, sun spots, dark patches and blemishes fades quickly.     Our soaps are completely hand made and ingredients we use are high quality and we make soaps without harmful cheaper chemicals. 98% of soaps available in market are made from harmful chemicals.     Also helps in reducing the pore size of the skin     Lightens and diminishes the appearance of scars and blemishes.  Crafted to provide you the ultimate luxurious bathing experience  Cruelty-free and Clear Conscience  Free of Parabens, Sulphates and Mineral Oils  OUR SOAPS ARE PARABEN AND SLS FREE  SUITABLE FOR ALL SKIN TYPES\n",
            "--- 📝 Generating hypothetical details for: Product Details Name : GHAR SOAPS MAGIC SOAP 100 GM  Product Name : GHAR SOAPS MAGIC SOAP 100 GM  Brand Name : Ghar Soaps  Type : Solid  Flavour : Sandalwood  Net Quantity (N) : 1  PROVEN TO BRIGHTEN THE SKIN  HOW DOES THIS SOAP MAKES YOUR SKIN BRIGHTER ?     Saffron present in the soap makes the skin brighter. Saffron helps in deeply exfoliating the pores giving you a cleansed, fresh and flawless skin. Scars, sun spots, dark patches and blemishes fades quickly.     Our soaps are completely hand made and ingredients we use are high quality and we make soaps without harmful cheaper chemicals. 98% of soaps available in market are made from harmful chemicals.     Also helps in reducing the pore size of the skin     Lightens and diminishes the appearance of scars and blemishes.  Crafted to provide you the ultimate luxurious bathing experience  Cruelty-free and Clear Conscience  Free of Parabens, Sulphates and Mineral Oils  OUR SOAPS ARE PARABEN AND SLS FREE  SUITABLE FOR ALL SKIN TYPES ---\n",
            "--- 🔬 Analyzing environmental impact... ---\n",
            "--- ✨ Generating final recommendation... ---\n",
            "\n",
            "\n",
            "===================================\n",
            "      Final Recommendation\n",
            "===================================\n",
            "\n",
            "## Product Analysis 📉\n",
            "\n",
            "Impact Analysis:\n",
            "\n",
            "The GHAR SOAPS Magic Soap presents a mixed environmental profile.  Positive aspects include the claim of being free from parabens, sulfates, and mineral oils, and the emphasis on ethical and cruelty-free production.  The use of natural ingredients like saffron offers potential benefits, but this is contingent on sustainable sourcing practices.  The negative aspects depend heavily on the undisclosed full ingredient list and sourcing details.  The soap base's composition (especially if palm oil is used without RSPO certification) and the sourcing of saffron are critical factors.  The environmental impact of the fragrance (natural vs. synthetic sandalwood) and packaging materials (recyclability and sourcing) also need clarification.  Water usage and energy consumption during manufacturing are unknown and require further investigation.  A comprehensive Life Cycle Assessment (LCA) is needed to fully evaluate the product's environmental impact.\n",
            "\n",
            "NOT RECOMMENDED\n",
            "\n",
            "## Better, Eco-Friendly Alternatives 🌱\n",
            "\n",
            "1. **Dr. Bronner's Castile Soap:** This soap is made with certified fair-trade and organic ingredients, including coconut, olive, and hemp oils.  It's a better choice because the company is transparent about its sourcing and manufacturing processes, prioritizing sustainability and ethical labor practices.  The minimal packaging is often recyclable or compostable, and the versatile nature of the soap reduces the need for multiple products.\n",
            "\n",
            "2. **Ethique Solid Shampoo and Conditioner Bars:**  These solid bars eliminate the need for plastic bottles typically associated with liquid shampoo and conditioner.  They are a more sustainable alternative because they reduce plastic waste significantly.  Ethique is also transparent about its ingredients and sourcing, focusing on sustainable and ethically sourced palm oil (if used) and other natural ingredients.\n",
            "\n",
            "3. **Homemade Soap using Olive Oil and Lye:** Making soap at home allows for complete control over ingredients and sourcing.  Using olive oil as a base is a sustainable choice, and you can add other natural ingredients like herbs or essential oils.  This option minimizes packaging waste and allows for customization to avoid potentially unsustainable ingredients or fragrances.  However, it requires research and careful handling of lye.\n"
          ]
        }
      ]
    }
  ],
  "metadata": {
    "colab": {
      "provenance": []
    },
    "kernelspec": {
      "display_name": "Python 3",
      "name": "python3"
    }
  },
  "nbformat": 4,
  "nbformat_minor": 0
}